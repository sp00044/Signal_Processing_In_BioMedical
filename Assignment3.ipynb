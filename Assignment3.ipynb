{
 "cells": [
  {
   "cell_type": "code",
   "execution_count": 8,
   "metadata": {
    "collapsed": true
   },
   "outputs": [],
   "source": [
    "%config IPCompleter.greedy=True\n",
    "from skimage import novice, data, io, exposure\n",
    "import numpy as np\n",
    "import matplotlib.pyplot as plt\n",
    "import matplotlib.image as mpimg\n",
    "import dicom\n",
    "\n",
    "def ImageAttributes(FileName):\n",
    "    print 'Name Of the File' + FileName\n",
    "    FirstFile = dicom.read_file(FileName)\n",
    "    #print (FirstFile)\n",
    "    #Image Attribute\n",
    "    if FileName == 'im140.dcm':\n",
    "        Institution_Name = FirstFile.InstitutionName\n",
    "    else:\n",
    "        Institution_Name = 'This File does not have an image attribute as institution name'\n",
    "    AccessionNumber = FirstFile.AccessionNumber\n",
    "    Columns = FirstFile.Columns\n",
    "    Rows = FirstFile.Rows\n",
    "    Vendor =FirstFile.Manufacturer\n",
    "    VendorName = FirstFile.ManufacturerModelName\n",
    "    Modality = FirstFile.Modality\n",
    "    PatientsName = FirstFile.PatientName\n",
    "    BitsEncoding = FirstFile.BitsAllocated\n",
    "    BitsStored = FirstFile.BitsStored\n",
    "    Bitss=FirstFile.HighBit\n",
    "    if FileName == 'IM_0028.dcm':\n",
    "        #Pixel related to image\n",
    "        RescaleSpacing = FirstFile.RescaleIntercept\n",
    "        RescaleRepresentation = FirstFile.RescaleSlope\n",
    "        RescaleData = FirstFile.RescaleType\n",
    "    else:\n",
    "        RescaleSpacing = ''\n",
    "        RescaleRepresentation = ''\n",
    "        RescaleData = ''\n",
    "    print (' Vendor :' + Vendor + ' and Vendor Name : ' + VendorName + ' \\n Modality :' + Modality + '\\n Patient Name :'\n",
    "            + PatientsName + ' \\n BitEncoding: ' + str(BitsEncoding) + ' and Bits:' + str(BitsStored) + \n",
    "           ' and High Bits:' + str(Bitss))\n",
    "    print ('The scalability of the image attributes can be defined as ' + 'RescaleSpacing: '+  str(RescaleSpacing) + \n",
    "            '\\n RescaleRepresentation:' + str(RescaleRepresentation) + ' \\n RescaleData:' + str(RescaleData) )\n"
   ]
  },
  {
   "cell_type": "code",
   "execution_count": 9,
   "metadata": {},
   "outputs": [
    {
     "name": "stdout",
     "output_type": "stream",
     "text": [
      "im140.dcm\n",
      " Vendor :GE MEDICAL SYSTEMS and Vendor Name : LightSpeed VCT \n",
      " Modality :CT\n",
      " Patient Name : \n",
      " BitEncoding: 16 and Bits:16 and High Bits:15\n",
      "The scalability of the image attributes can be defined as RescaleSpacing: \n",
      " RescaleRepresentation: \n",
      " RescaleData:\n",
      "-----------------------------------------Second File ------------------------------\n",
      "IM_0028.dcm\n",
      " Vendor :Philips Medical Systems and Vendor Name : Achieva \n",
      " Modality :MR\n",
      " Patient Name : \n",
      " BitEncoding: 16 and Bits:12 and High Bits:11\n",
      "The scalability of the image attributes can be defined as RescaleSpacing: 0\n",
      " RescaleRepresentation:2.12918192918192 \n",
      " RescaleData:normalized\n"
     ]
    }
   ],
   "source": [
    "FirstFile = 'im140.dcm'\n",
    "ImageAttributes(FirstFile)\n",
    "print '-----------------------------------------Second File ------------------------------'\n",
    "SecondFile = 'IM_0028.dcm'\n",
    "ImageAttributes(SecondFile)"
   ]
  },
  {
   "cell_type": "code",
   "execution_count": null,
   "metadata": {
    "collapsed": true
   },
   "outputs": [],
   "source": []
  }
 ],
 "metadata": {
  "kernelspec": {
   "display_name": "Python 2",
   "language": "python",
   "name": "python2"
  },
  "language_info": {
   "codemirror_mode": {
    "name": "ipython",
    "version": 2
   },
   "file_extension": ".py",
   "mimetype": "text/x-python",
   "name": "python",
   "nbconvert_exporter": "python",
   "pygments_lexer": "ipython2",
   "version": "2.7.13"
  }
 },
 "nbformat": 4,
 "nbformat_minor": 2
}
